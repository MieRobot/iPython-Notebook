{
 "metadata": {
  "name": "",
  "signature": "sha256:29d8806248f3735056b39fdc637f04e1f894b53c4eb7e4717cda197bf7a7ba9f"
 },
 "nbformat": 3,
 "nbformat_minor": 0,
 "worksheets": [
  {
   "cells": [
    {
     "cell_type": "markdown",
     "metadata": {},
     "source": [
      "#5 Summary\n",
      "\n",
      "## 5.1 Findings from Exploratory Analysis\n",
      "\n",
      "### Electricity consumption pattern\n",
      "\n",
      "* Electricity shows a strong periodical pattern. You can clearly see the difference between day and night, weekdays and weekends. \n",
      "\n",
      "<img src = \"Pics/hourly electricity.png\">\n",
      "\n",
      "* It looks like during each semester, electricity use ramps up toward a peak at finals, perhaps representative of studying patterns. The students are working harder and harder toward finals. Then there is a dip after semesters end, inlcuding Christmas vacation. The electricity consumption is relatively low during January and summer terms, and spring break, when campus can be relatively empty. (Text partially contributed by Steven) \n",
      "\n",
      "<img src = \"Pics/Weekly-electricity.jpg\" style = \"width:900px; height:400px\">\n",
      "\n",
      "### Relationship between Energy Consumption and Features\n",
      "\n",
      "* Electricity is not co-related with weather data (temperature). The idea of using weather information to predict electricity will NOT work. I think it mostly depends on time/occupancy. But we can still do some pattern exploration to figure out day/night, weekday/weekend, school day/holiday electricity consumption pattern. Actually, we should have noticed that from monthly data.\n",
      "\n",
      "\n",
      "* Chilled water and steam are strongly co-related with temperature and humidity. However, using with weather information to predict hourly chilled water and steam is not suffient. Daily chilled water and steam consumption have a good linear relationship with cooling and heating degrees."
     ]
    },
    {
     "cell_type": "markdown",
     "metadata": {},
     "source": [
      "## 5.2 Prediction Accuracy of Different Machine Learning Methods\n",
      "\n",
      "### Gaussian Process Regression\n",
      "\n",
      "<img src = \"Pics/summary_gp.png\">"
     ]
    },
    {
     "cell_type": "markdown",
     "metadata": {},
     "source": [
      "#6 Conclusion"
     ]
    },
    {
     "cell_type": "markdown",
     "metadata": {},
     "source": [
      "#7 Discussion\n",
      "\n",
      "* We spent a lot of time cleaning the raw data. Therefore, we can only manage one building.\n",
      "\n",
      "\n",
      "* If we had more time, we would like to optimize the set of features that should be included in the prediction.\n",
      "\n",
      "* If we had more time, we would try to use the same training and test time scale. Please note that in this project, they are not the same.\n",
      "\n",
      "\n",
      "* We tried our best explaining everything in the notebooks. However, there is very limited time for this project and the some part of work is trivial and difficult to explain unless you study the raw data. We just could not create a document using scientific publication standard within such a short time. Please forgive any typos. If there is anything unclear to you, do not heasitate to send us an email. We are happy to explain further. "
     ]
    },
    {
     "cell_type": "code",
     "collapsed": false,
     "input": [],
     "language": "python",
     "metadata": {},
     "outputs": []
    }
   ],
   "metadata": {}
  }
 ]
}